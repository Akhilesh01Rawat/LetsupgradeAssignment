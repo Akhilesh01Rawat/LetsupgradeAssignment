{
  "nbformat": 4,
  "nbformat_minor": 0,
  "metadata": {
    "colab": {
      "name": "Assignment 3.ipynb",
      "provenance": []
    },
    "kernelspec": {
      "name": "python3",
      "display_name": "Python 3"
    }
  },
  "cells": [
    {
      "cell_type": "code",
      "metadata": {
        "colab": {
          "base_uri": "https://localhost:8080/"
        },
        "id": "CU85uryYL7MG",
        "outputId": "bbe8c8ab-3782-4b4f-806c-0d4f9767eae7"
      },
      "source": [
        "for Number in range (1, 101):\r\n",
        "    count = 0\r\n",
        "    for i in range(2, (Number//2 + 1)):\r\n",
        "        if(Number % i == 0):\r\n",
        "            count = count + 1\r\n",
        "            break\r\n",
        "\r\n",
        "    if (count == 0 and Number != 1):\r\n",
        "        print(\" %d\" %Number, end = '  ')"
      ],
      "execution_count": 6,
      "outputs": [
        {
          "output_type": "stream",
          "text": [
            " 2   3   5   7   11   13   17   19   23   29   31   37   41   43   47   53   59   61   67   71   73   79   83   89   97  "
          ],
          "name": "stdout"
        }
      ]
    },
    {
      "cell_type": "code",
      "metadata": {
        "colab": {
          "base_uri": "https://localhost:8080/",
          "height": 135
        },
        "id": "I5fep8LsKgnO",
        "outputId": "7a59a774-c961-4201-baca-d13aed175259"
      },
      "source": [
        "def determine_grade(scores):\r\n",
        "    if scores >= 90 and <= 100:\r\n",
        "        return 'A'\r\n",
        "    elif scores >= 80 and <= 89:\r\n",
        "        return 'B'\r\n",
        "    elif scores >= 70 and <= 79:\r\n",
        "        return 'C'\r\n",
        "    elif scores >= 60 and <= 69:\r\n",
        "        return 'D'\r\n",
        "    elif scores >= 50 and <= 59:\r\n",
        "        return 'E'\r\n",
        "    else:\r\n",
        "        return 'F'\r\n"
      ],
      "execution_count": 9,
      "outputs": [
        {
          "output_type": "error",
          "ename": "SyntaxError",
          "evalue": "ignored",
          "traceback": [
            "\u001b[0;36m  File \u001b[0;32m\"<ipython-input-9-997492adf340>\"\u001b[0;36m, line \u001b[0;32m2\u001b[0m\n\u001b[0;31m    if scores >= 90 and <= 100:\u001b[0m\n\u001b[0m                         ^\u001b[0m\n\u001b[0;31mSyntaxError\u001b[0m\u001b[0;31m:\u001b[0m invalid syntax\n"
          ]
        }
      ]
    },
    {
      "cell_type": "code",
      "metadata": {
        "colab": {
          "base_uri": "https://localhost:8080/"
        },
        "id": "ao2wr81EMQD1",
        "outputId": "a2d762f2-939b-49ca-efb6-13676cf726c5"
      },
      "source": [
        "for row in range(0, 10):\r\n",
        "    for col in range(0, 10):\r\n",
        "        num = row * col\r\n",
        "        if num < 10:\r\n",
        "            empty = \"  \"\r\n",
        "        else:\r\n",
        "            if num < 100: \r\n",
        "                empty  = \" \" \r\n",
        "        if col == 0:\r\n",
        "            if row == 0:\r\n",
        "                print(\"    \", end = '')\r\n",
        "            else:\r\n",
        "                print(\"  \", row, end='')\r\n",
        "        elif row == 0:\r\n",
        "            print(\"  \", col, end='')\r\n",
        "        else:\r\n",
        "            print(empty, num, end = '')\r\n",
        "    print()"
      ],
      "execution_count": 7,
      "outputs": [
        {
          "output_type": "stream",
          "text": [
            "       1   2   3   4   5   6   7   8   9\n",
            "   1   1   2   3   4   5   6   7   8   9\n",
            "   2   2   4   6   8  10  12  14  16  18\n",
            "   3   3   6   9  12  15  18  21  24  27\n",
            "   4   4   8  12  16  20  24  28  32  36\n",
            "   5   5  10  15  20  25  30  35  40  45\n",
            "   6   6  12  18  24  30  36  42  48  54\n",
            "   7   7  14  21  28  35  42  49  56  63\n",
            "   8   8  16  24  32  40  48  56  64  72\n",
            "   9   9  18  27  36  45  54  63  72  81\n"
          ],
          "name": "stdout"
        }
      ]
    },
    {
      "cell_type": "code",
      "metadata": {
        "colab": {
          "base_uri": "https://localhost:8080/"
        },
        "id": "A6In3PUJMo-K",
        "outputId": "a54bc643-193d-480e-ac11-197c5354f5bb"
      },
      "source": [
        "def checkPrime(number):\r\n",
        "\tif number < 1:\r\n",
        "\t\treturn False\r\n",
        "\tfor i in range (2, number):\r\n",
        "\t\tif  number % i == 0:\r\n",
        "\t\t\treturn False\r\n",
        "\treturn True\r\n",
        "number = input(\"Enter a number to check prime \")\r\n",
        "prime = checkPrime(int(number))\r\n",
        "if prime:\r\n",
        "\tprint(f\"{number} is a prime number\")\r\n",
        "else:\r\n",
        "\tprint(f\"{number} is not a prime number\")"
      ],
      "execution_count": 8,
      "outputs": [
        {
          "output_type": "stream",
          "text": [
            "Enter a number to check prime 15\n",
            "15 is not a prime number\n"
          ],
          "name": "stdout"
        }
      ]
    }
  ]
}