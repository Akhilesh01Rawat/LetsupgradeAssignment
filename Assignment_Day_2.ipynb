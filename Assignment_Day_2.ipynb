{
  "nbformat": 4,
  "nbformat_minor": 0,
  "metadata": {
    "colab": {
      "name": "Assignment Day 2.ipynb",
      "provenance": []
    },
    "kernelspec": {
      "name": "python3",
      "display_name": "Python 3"
    }
  },
  "cells": [
    {
      "cell_type": "markdown",
      "metadata": {
        "id": "QUuVLSpNYDPt"
      },
      "source": [
        "# Assignment Day 2"
      ]
    },
    {
      "cell_type": "markdown",
      "metadata": {
        "id": "3koZNqXdYVZl"
      },
      "source": [
        "**Q.1 Try 5 Different functions of the String in Python.**"
      ]
    },
    {
      "cell_type": "code",
      "metadata": {
        "colab": {
          "base_uri": "https://localhost:8080/"
        },
        "id": "lpi0-mpTYWrX",
        "outputId": "abb8d880-3e0f-4f15-d664-449e881a32f8"
      },
      "source": [
        "Letsupgrade=\"hello welcome\"\r\n",
        "print(Letsupgrade[0])\r\n",
        "print(Letsupgrade[-2])      #index"
      ],
      "execution_count": 5,
      "outputs": [
        {
          "output_type": "stream",
          "text": [
            "h\n",
            "m\n"
          ],
          "name": "stdout"
        }
      ]
    },
    {
      "cell_type": "code",
      "metadata": {
        "id": "9JTJTerkYmlX",
        "colab": {
          "base_uri": "https://localhost:8080/"
        },
        "outputId": "cc4c59bf-8d1e-4d0b-f6c0-136f71fab581"
      },
      "source": [
        "Letsupgrade=\"hello welcome\"\r\n",
        "print(Letsupgrade[2:4:1])          #slicing"
      ],
      "execution_count": 6,
      "outputs": [
        {
          "output_type": "stream",
          "text": [
            "ll\n"
          ],
          "name": "stdout"
        }
      ]
    },
    {
      "cell_type": "code",
      "metadata": {
        "colab": {
          "base_uri": "https://localhost:8080/",
          "height": 36
        },
        "id": "4dpmu53lBnOi",
        "outputId": "abf74094-c7b9-44db-a2cc-050a1d2c1309"
      },
      "source": [
        "\"letsupgrade\".lower()\r\n"
      ],
      "execution_count": 7,
      "outputs": [
        {
          "output_type": "execute_result",
          "data": {
            "application/vnd.google.colaboratory.intrinsic+json": {
              "type": "string"
            },
            "text/plain": [
              "'letsupgrade'"
            ]
          },
          "metadata": {
            "tags": []
          },
          "execution_count": 7
        }
      ]
    },
    {
      "cell_type": "code",
      "metadata": {
        "colab": {
          "base_uri": "https://localhost:8080/"
        },
        "id": "glffrI-YBy8R",
        "outputId": "2c96eacd-dab0-4c2e-b2d5-0e82903e34dc"
      },
      "source": [
        "\"Hey there how are you guys\".split()"
      ],
      "execution_count": 8,
      "outputs": [
        {
          "output_type": "execute_result",
          "data": {
            "text/plain": [
              "['Hey', 'there', 'how', 'are', 'you', 'guys']"
            ]
          },
          "metadata": {
            "tags": []
          },
          "execution_count": 8
        }
      ]
    },
    {
      "cell_type": "code",
      "metadata": {
        "colab": {
          "base_uri": "https://localhost:8080/",
          "height": 36
        },
        "id": "0A5IaEENB7o0",
        "outputId": "fa038477-6a68-4075-a909-ed1e3a1dba08"
      },
      "source": [
        "'Happy New Year'.replace('Happy','Brilliant')"
      ],
      "execution_count": 9,
      "outputs": [
        {
          "output_type": "execute_result",
          "data": {
            "application/vnd.google.colaboratory.intrinsic+json": {
              "type": "string"
            },
            "text/plain": [
              "'Brilliant New Year'"
            ]
          },
          "metadata": {
            "tags": []
          },
          "execution_count": 9
        }
      ]
    },
    {
      "cell_type": "markdown",
      "metadata": {
        "id": "NYbo8w60CTvL"
      },
      "source": [
        "**Q.2 Try 5 Different functions of the List object in Python**"
      ]
    },
    {
      "cell_type": "code",
      "metadata": {
        "colab": {
          "base_uri": "https://localhost:8080/"
        },
        "id": "lMEnEA_hCaAd",
        "outputId": "1a64fba0-14aa-4a8c-d301-22766e06b383"
      },
      "source": [
        "sum([9,3,2,5,1,-9])"
      ],
      "execution_count": 11,
      "outputs": [
        {
          "output_type": "execute_result",
          "data": {
            "text/plain": [
              "11"
            ]
          },
          "metadata": {
            "tags": []
          },
          "execution_count": 11
        }
      ]
    },
    {
      "cell_type": "code",
      "metadata": {
        "colab": {
          "base_uri": "https://localhost:8080/"
        },
        "id": "tOmxSlQ1DXdl",
        "outputId": "ad32cb83-c84f-47ed-a48a-268287e160ab"
      },
      "source": [
        "numbers = [4,3,9,10,33,90]\r\n",
        "min(numbers)"
      ],
      "execution_count": 12,
      "outputs": [
        {
          "output_type": "execute_result",
          "data": {
            "text/plain": [
              "3"
            ]
          },
          "metadata": {
            "tags": []
          },
          "execution_count": 12
        }
      ]
    },
    {
      "cell_type": "code",
      "metadata": {
        "colab": {
          "base_uri": "https://localhost:8080/"
        },
        "id": "Xqwv3lL4DcZc",
        "outputId": "a6e02a94-d1cc-42fd-8666-2b0395a5b677"
      },
      "source": [
        "numbers = [4,3,10,6,21,9,23]\r\n",
        "sorted(numbers, reverse=True)"
      ],
      "execution_count": 13,
      "outputs": [
        {
          "output_type": "execute_result",
          "data": {
            "text/plain": [
              "[23, 21, 10, 9, 6, 4, 3]"
            ]
          },
          "metadata": {
            "tags": []
          },
          "execution_count": 13
        }
      ]
    },
    {
      "cell_type": "code",
      "metadata": {
        "colab": {
          "base_uri": "https://localhost:8080/"
        },
        "id": "IUs0zLbrDs46",
        "outputId": "a82f54c3-6749-46c1-c006-ee7adc787404"
      },
      "source": [
        "l1 = [6,4,8,9,2,3,6]\r\n",
        "list(map(lambda x: x+2, l1))"
      ],
      "execution_count": 14,
      "outputs": [
        {
          "output_type": "execute_result",
          "data": {
            "text/plain": [
              "[8, 6, 10, 11, 4, 5, 8]"
            ]
          },
          "metadata": {
            "tags": []
          },
          "execution_count": 14
        }
      ]
    },
    {
      "cell_type": "code",
      "metadata": {
        "colab": {
          "base_uri": "https://localhost:8080/"
        },
        "id": "BcTZ_2NyD848",
        "outputId": "9b2b992c-a996-48a2-bc87-cafa5cbf3820"
      },
      "source": [
        "names = [\"eyong\",\"kevin\",\"enow\",\"ayamba\",\"derick\"]\r\n",
        "list(enumerate(names, 3))"
      ],
      "execution_count": 15,
      "outputs": [
        {
          "output_type": "execute_result",
          "data": {
            "text/plain": [
              "[(3, 'eyong'), (4, 'kevin'), (5, 'enow'), (6, 'ayamba'), (7, 'derick')]"
            ]
          },
          "metadata": {
            "tags": []
          },
          "execution_count": 15
        }
      ]
    },
    {
      "cell_type": "markdown",
      "metadata": {
        "id": "fCZ9Hf_AEBua"
      },
      "source": [
        "**Q.3 Experiment with at least 5 default functions of Dictionary**"
      ]
    },
    {
      "cell_type": "code",
      "metadata": {
        "colab": {
          "base_uri": "https://localhost:8080/"
        },
        "id": "4VKut_dtEH9g",
        "outputId": "ca980619-70c5-42f0-c8d4-f1bc6488997c"
      },
      "source": [
        "dict={1:1,2:2,3:3,4:4}\r\n",
        "len(dict)"
      ],
      "execution_count": 19,
      "outputs": [
        {
          "output_type": "execute_result",
          "data": {
            "text/plain": [
              "4"
            ]
          },
          "metadata": {
            "tags": []
          },
          "execution_count": 19
        }
      ]
    },
    {
      "cell_type": "code",
      "metadata": {
        "colab": {
          "base_uri": "https://localhost:8080/"
        },
        "id": "Rtiqs8GME4CJ",
        "outputId": "952c5eb0-fc18-4299-99cb-22bc825018d1"
      },
      "source": [
        "dict={1:1,2:2,3:3,4:4}\r\n",
        "sorted(dict)"
      ],
      "execution_count": 20,
      "outputs": [
        {
          "output_type": "execute_result",
          "data": {
            "text/plain": [
              "[1, 2, 3, 4]"
            ]
          },
          "metadata": {
            "tags": []
          },
          "execution_count": 20
        }
      ]
    },
    {
      "cell_type": "code",
      "metadata": {
        "colab": {
          "base_uri": "https://localhost:8080/"
        },
        "id": "ZzAQOTJSFBqV",
        "outputId": "4f972519-cfec-4f13-a055-7d0f57d255a0"
      },
      "source": [
        "dict1={1:1,2:2}\r\n",
        "dict2={2:2,3:3}\r\n",
        "dict1.update(dict2)\r\n",
        "dict1"
      ],
      "execution_count": 22,
      "outputs": [
        {
          "output_type": "execute_result",
          "data": {
            "text/plain": [
              "{1: 1, 2: 2, 3: 3}"
            ]
          },
          "metadata": {
            "tags": []
          },
          "execution_count": 22
        }
      ]
    },
    {
      "cell_type": "code",
      "metadata": {
        "colab": {
          "base_uri": "https://localhost:8080/"
        },
        "id": "Vco-5Z_JFxV0",
        "outputId": "d6c833c6-a106-452b-fdeb-e093807b272f"
      },
      "source": [
        "dict1={4:{1:2,2:4},8:16}\r\n",
        "dict1[4]"
      ],
      "execution_count": 26,
      "outputs": [
        {
          "output_type": "execute_result",
          "data": {
            "text/plain": [
              "{1: 2, 2: 4}"
            ]
          },
          "metadata": {
            "tags": []
          },
          "execution_count": 26
        }
      ]
    },
    {
      "cell_type": "code",
      "metadata": {
        "colab": {
          "base_uri": "https://localhost:8080/"
        },
        "id": "nZD5s_QYGS4d",
        "outputId": "4dfbadc5-67c5-4767-98da-70ab87f18781"
      },
      "source": [
        "dict4={1:1,2:2,3:3,4:4}\r\n",
        "for i in dict4:\r\n",
        "  print(dict4[i]*2)"
      ],
      "execution_count": 28,
      "outputs": [
        {
          "output_type": "stream",
          "text": [
            "2\n",
            "4\n",
            "6\n",
            "8\n"
          ],
          "name": "stdout"
        }
      ]
    }
  ]
}