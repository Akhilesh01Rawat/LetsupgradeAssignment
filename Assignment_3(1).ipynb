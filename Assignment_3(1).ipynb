{
  "nbformat": 4,
  "nbformat_minor": 0,
  "metadata": {
    "colab": {
      "name": "Assignment 3.ipynb",
      "provenance": [],
      "collapsed_sections": []
    },
    "kernelspec": {
      "name": "python3",
      "display_name": "Python 3"
    }
  },
  "cells": [
    {
      "cell_type": "code",
      "metadata": {
        "colab": {
          "base_uri": "https://localhost:8080/"
        },
        "id": "CU85uryYL7MG",
        "outputId": "bbe8c8ab-3782-4b4f-806c-0d4f9767eae7"
      },
      "source": [
        "for Number in range (1, 101):\r\n",
        "    count = 0\r\n",
        "    for i in range(2, (Number//2 + 1)):\r\n",
        "        if(Number % i == 0):\r\n",
        "            count = count + 1\r\n",
        "            break\r\n",
        "\r\n",
        "    if (count == 0 and Number != 1):\r\n",
        "        print(\" %d\" %Number, end = '  ')"
      ],
      "execution_count": 6,
      "outputs": [
        {
          "output_type": "stream",
          "text": [
            " 2   3   5   7   11   13   17   19   23   29   31   37   41   43   47   53   59   61   67   71   73   79   83   89   97  "
          ],
          "name": "stdout"
        }
      ]
    },
    {
      "cell_type": "code",
      "metadata": {
        "colab": {
          "base_uri": "https://localhost:8080/"
        },
        "id": "I5fep8LsKgnO",
        "outputId": "76bbd4df-4e8b-4b5b-9707-31cc78fb2d29"
      },
      "source": [
        "total = 0\r\n",
        "gradeCount = 0\r\n",
        "\r\n",
        "while gradeCount < 5:\r\n",
        "    grade = int(input('What was your score: '))\r\n",
        "\r\n",
        "    if grade < 0 or grade > 100:\r\n",
        "        print('It should be a number from 0 to 100')\r\n",
        "    else:\r\n",
        "        gradeCount += 1\r\n",
        "        total += grade\r\n",
        "\r\n",
        "        if 93 <= grade <= 100:\r\n",
        "           print('A')\r\n",
        "        elif 90 <= grade < 93:\r\n",
        "            print('A-')\r\n",
        "        elif 87 <= grade < 90:\r\n",
        "            print('B+')\r\n",
        "        elif 83 <= grade < 87:\r\n",
        "            print('B')\r\n",
        "        elif 80 <= grade < 83:\r\n",
        "            print('B-')\r\n",
        "        elif 77 <= grade < 80:\r\n",
        "            print('C+')\r\n",
        "        elif 73 <= grade < 77:\r\n",
        "            print('C')\r\n",
        "        elif 70 <= grade < 73:\r\n",
        "            print('C-')\r\n",
        "        elif 67 <= grade < 60:\r\n",
        "            print('D+')\r\n",
        "        elif 63 <= grade < 67:\r\n",
        "            print('D')\r\n",
        "        elif 60 <= grade < 63:\r\n",
        "            print('D-')\r\n",
        "        elif grade < 60:\r\n",
        "            print('F')\r\n",
        "\r\n",
        "average = total / gradeCount\r\n",
        "\r\n",
        "print('Average: ' + str(average))\r\n"
      ],
      "execution_count": null,
      "outputs": [
        {
          "output_type": "stream",
          "text": [
            "What was your score: 555\n",
            "It should be a number from 0 to 100\n",
            "What was your score: 56\n",
            "F\n"
          ],
          "name": "stdout"
        }
      ]
    },
    {
      "cell_type": "code",
      "metadata": {
        "colab": {
          "base_uri": "https://localhost:8080/"
        },
        "id": "ao2wr81EMQD1",
        "outputId": "a2d762f2-939b-49ca-efb6-13676cf726c5"
      },
      "source": [
        "for row in range(0, 10):\r\n",
        "    for col in range(0, 10):\r\n",
        "        num = row * col\r\n",
        "        if num < 10:\r\n",
        "            empty = \"  \"\r\n",
        "        else:\r\n",
        "            if num < 100: \r\n",
        "                empty  = \" \" \r\n",
        "        if col == 0:\r\n",
        "            if row == 0:\r\n",
        "                print(\"    \", end = '')\r\n",
        "            else:\r\n",
        "                print(\"  \", row, end='')\r\n",
        "        elif row == 0:\r\n",
        "            print(\"  \", col, end='')\r\n",
        "        else:\r\n",
        "            print(empty, num, end = '')\r\n",
        "    print()"
      ],
      "execution_count": 7,
      "outputs": [
        {
          "output_type": "stream",
          "text": [
            "       1   2   3   4   5   6   7   8   9\n",
            "   1   1   2   3   4   5   6   7   8   9\n",
            "   2   2   4   6   8  10  12  14  16  18\n",
            "   3   3   6   9  12  15  18  21  24  27\n",
            "   4   4   8  12  16  20  24  28  32  36\n",
            "   5   5  10  15  20  25  30  35  40  45\n",
            "   6   6  12  18  24  30  36  42  48  54\n",
            "   7   7  14  21  28  35  42  49  56  63\n",
            "   8   8  16  24  32  40  48  56  64  72\n",
            "   9   9  18  27  36  45  54  63  72  81\n"
          ],
          "name": "stdout"
        }
      ]
    },
    {
      "cell_type": "code",
      "metadata": {
        "colab": {
          "base_uri": "https://localhost:8080/"
        },
        "id": "A6In3PUJMo-K",
        "outputId": "a54bc643-193d-480e-ac11-197c5354f5bb"
      },
      "source": [
        "def checkPrime(number):\r\n",
        "\tif number < 1:\r\n",
        "\t\treturn False\r\n",
        "\tfor i in range (2, number):\r\n",
        "\t\tif  number % i == 0:\r\n",
        "\t\t\treturn False\r\n",
        "\treturn True\r\n",
        "number = input(\"Enter a number to check prime \")\r\n",
        "prime = checkPrime(int(number))\r\n",
        "if prime:\r\n",
        "\tprint(f\"{number} is a prime number\")\r\n",
        "else:\r\n",
        "\tprint(f\"{number} is not a prime number\")"
      ],
      "execution_count": 8,
      "outputs": [
        {
          "output_type": "stream",
          "text": [
            "Enter a number to check prime 15\n",
            "15 is not a prime number\n"
          ],
          "name": "stdout"
        }
      ]
    }
  ]
}